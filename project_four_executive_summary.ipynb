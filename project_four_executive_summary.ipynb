{
 "cells": [
  {
   "attachments": {},
   "cell_type": "markdown",
   "metadata": {},
   "source": [
    "# Executive Summary\n",
    "\n",
    "## Problem Statement:\n",
    "\n",
    "Working as a data scientist in a contracting firm that's rapidly expanding and wants to be competitive in the hiring market, the purpose of this project aimed to understand what factors influence salaries for data-related roles across different sectors. In addition, this project also aimed to determine what factors distinguish between data scientist and data analyst roles. This includes the set of requied skills in data scientist/data analyst roles and the ways in which these roles are advertised.\n",
    "\n",
    "## Approach:\n",
    "\n",
    "Data was collected from the website au.indeed.com from several big cities across Australia, including Sydney, Melbourne, Canberra, Brisbane, Adelaide, Perth and Gold Coast. The keyword of job title for the search varies from different data-related sectors, i.e. Data Scientist, Data Analyst, Data Engineer, Research Scientist and Bussiness Intelligence. The information of job title, company name, location, job summary and job description was extracted for a total of 3093 unique job listings. \n",
    "\n",
    "One limitation of the data collection process was that only a minority of the listed jobs contained explicit salary information. The strategy to solve this limitation is that if the salary information was not be stated in the job listing, the estimate salary information from the website was used. The salary infomation then was converted into the same scale (annual salary) and the median salary was calculated from the salary range advertised.\n",
    "\n",
    "**TASK 1: what factors influence job salaries??**\n",
    "\n",
    "We frame the problem as a classification problem which is to classify the job listings into low (< median annual salary)  and high (> median annual salary) and build a number of classification models to predict what salary class a given job will fall into. From this we can determine the features that have the greatest impact on salary.\n",
    "\n",
    "All words in the job title, company name and job summary were used to predict the job salary. \n",
    "\n",
    "**TASK 2: what factors that distinguish data scientist role and data analyst role**\n",
    "\n",
    "To address what factors that distinguish data scientist role and data analyst role, we constructed a number of classification models to predict whether a given job is a data scientist job or a data analyst job.\n",
    "\n",
    "\n",
    "## Result that we get:\n",
    "\n",
    "**TASK 1: What factors influence job salaries?**\n",
    "\n",
    "We were able to construct a number of classification models in combination with other NLP techniques (TF-IDF, CountVectorizer and optimization techniques (PCA, GridSearchCV)  to predict the class of salary (high or low).\n",
    "\n",
    "Our best  model was able to correctly sort jobs into low/high-salary classes with 78% accuracy, which is roughly 17% better than a baseline estimate. The model found that the important predictors of salary level include: business acumen, location, seniority, qualifications in education, previous experience,...\n",
    "\n",
    "\n",
    "**TASK 2: what factors that distinguish data scientist role and data analyst role**\n",
    "We were able to classify data scientist and data analyst roles with 100% accuracy, approximately 34% better than baseline. This model found that data scientist roles are distinguished by the machine leaning skills and Big Data skills (i.e. Scala).\n"
   ]
  },
  {
   "cell_type": "code",
   "execution_count": null,
   "metadata": {},
   "outputs": [],
   "source": []
  }
 ],
 "metadata": {
  "kernelspec": {
   "display_name": "Python 3",
   "language": "python",
   "name": "python3"
  },
  "language_info": {
   "codemirror_mode": {
    "name": "ipython",
    "version": 3
   },
   "file_extension": ".py",
   "mimetype": "text/x-python",
   "name": "python",
   "nbconvert_exporter": "python",
   "pygments_lexer": "ipython3",
   "version": "3.6.5"
  }
 },
 "nbformat": 4,
 "nbformat_minor": 2
}
